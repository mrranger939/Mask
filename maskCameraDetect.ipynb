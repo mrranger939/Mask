{
 "cells": [
  {
   "cell_type": "code",
   "execution_count": 1,
   "id": "a368f9d2",
   "metadata": {},
   "outputs": [],
   "source": [
    "import numpy as np\n",
    "import pandas as pd\n",
    "import tensorflow as tf\n",
    "import cv2"
   ]
  },
  {
   "cell_type": "code",
   "execution_count": 2,
   "id": "a96ad587",
   "metadata": {},
   "outputs": [],
   "source": [
    "cap = cv2.VideoCapture(0)"
   ]
  },
  {
   "cell_type": "code",
   "execution_count": 3,
   "id": "8a81cca3",
   "metadata": {},
   "outputs": [
    {
     "name": "stderr",
     "output_type": "stream",
     "text": [
      "WARNING:absl:Compiled the loaded model, but the compiled metrics have yet to be built. `model.compile_metrics` will be empty until you train or evaluate the model.\n"
     ]
    }
   ],
   "source": [
    "from tensorflow.keras.models import load_model\n",
    "\n",
    "model = load_model(\"my_model.h5\")"
   ]
  },
  {
   "cell_type": "code",
   "execution_count": 4,
   "id": "8b2fafbf",
   "metadata": {},
   "outputs": [],
   "source": [
    "def detect_face_mask(img):\n",
    "    y_pred = model.predict(img.reshape(1,224,224,3))\n",
    "    return y_pred[0][0]"
   ]
  },
  {
   "cell_type": "code",
   "execution_count": 5,
   "id": "de4eac6b",
   "metadata": {},
   "outputs": [],
   "source": [
    "def draw_label(img, text, pos, bg_color):\n",
    "    text_size = cv2.getTextSize(text, cv2.FONT_HERSHEY_SIMPLEX, 1, cv2.FILLED)\n",
    "    end_x = pos[0] + text_size[0][0] + 2\n",
    "    end_y = pos[1] + text_size[0][1] - 2\n",
    "    cv2.rectangle(img, pos, (end_x, end_y), bg_color, cv2.FILLED)\n",
    "    cv2.putText(img, text, pos, cv2.FONT_HERSHEY_SIMPLEX, 1, (0,0,0),1,cv2.LINE_AA)"
   ]
  },
  {
   "cell_type": "code",
   "execution_count": 6,
   "id": "3162c38d",
   "metadata": {},
   "outputs": [],
   "source": [
    "haar = cv2.CascadeClassifier('haarcascade_frontalface_default.xml')\n",
    "def detect_face(img):\n",
    "    cords = haar.detectMultiScale(img)\n",
    "    return cords"
   ]
  },
  {
   "cell_type": "code",
   "execution_count": 7,
   "id": "95651fdc",
   "metadata": {},
   "outputs": [],
   "source": [
    "while True:\n",
    "    ret, frame = cap.read()\n",
    "    img = cv2.resize(frame, (224, 224))  \n",
    "    img = img / 255.0                    \n",
    "    y_pred = model.predict(img.reshape(1, 224, 224, 3), verbose=0) \n",
    "    coords = detect_face(cv2.cvtColor(frame, cv2.COLOR_BGR2GRAY))\n",
    "    for x,y,w,h in coords:\n",
    "        cv2.rectangle(frame, (x,y), (x+w,y+h), (255,0,0), 2)\n",
    "    label = int(y_pred[0][0] > 0.5)\n",
    "    if label == 0:\n",
    "        draw_label(frame, 'Masked', (30,30),(0,255,0))\n",
    "    else:\n",
    "        draw_label(frame, 'No Mask', (30,30),(0,0,255))\n",
    "    cv2.imshow('window', frame)\n",
    "    if cv2.waitKey(1) & 0xFF == ord('x'):\n",
    "        break\n",
    "cv2.destroyAllWindows()"
   ]
  },
  {
   "cell_type": "code",
   "execution_count": 8,
   "id": "69b53bf2",
   "metadata": {},
   "outputs": [],
   "source": [
    "# while True:\n",
    "#     ret, frame = cap.read()\n",
    "\n",
    "#     img = cv2.resize(frame, (224, 224))  \n",
    "#     img = img / 255.0        \n",
    "#     img_tensor = tf.convert_to_tensor(img.reshape(1, 224, 224, 3), dtype=tf.float32)\n",
    "#     y_pred = model(img_tensor, training=False, verbose=False)            \n",
    "#     # y_pred = model.predict_on_batch(img.reshape(1, 224, 224, 3))\n",
    "#     # y_pred = model.predict(img.reshape(1, 224, 224, 3)) \n",
    "\n",
    "#     label = int(y_pred[0][0] > 0.5)\n",
    "#     if label == 0:\n",
    "#         draw_label(frame, 'Masked', (30,30),(0,255,0))\n",
    "#     else:\n",
    "#         draw_label(frame, 'No Mask', (30,30),(0,0,255))\n",
    "#     cv2.imshow('window', frame)\n",
    "#     if cv2.waitKey(1) & 0xFF == ord('x'):\n",
    "#         break\n",
    "# cv2.destroyAllWindows()"
   ]
  },
  {
   "cell_type": "code",
   "execution_count": null,
   "id": "a3821a28",
   "metadata": {},
   "outputs": [],
   "source": []
  }
 ],
 "metadata": {
  "kernelspec": {
   "display_name": "myenv",
   "language": "python",
   "name": "python3"
  },
  "language_info": {
   "codemirror_mode": {
    "name": "ipython",
    "version": 3
   },
   "file_extension": ".py",
   "mimetype": "text/x-python",
   "name": "python",
   "nbconvert_exporter": "python",
   "pygments_lexer": "ipython3",
   "version": "3.12.1"
  }
 },
 "nbformat": 4,
 "nbformat_minor": 5
}
